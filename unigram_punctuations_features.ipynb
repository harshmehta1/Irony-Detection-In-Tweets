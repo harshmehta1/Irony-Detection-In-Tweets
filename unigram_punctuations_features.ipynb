{
 "cells": [
  {
   "cell_type": "markdown",
   "metadata": {},
   "source": [
    "### Data preprocessing"
   ]
  },
  {
   "cell_type": "code",
   "execution_count": 3,
   "metadata": {
    "collapsed": true
   },
   "outputs": [],
   "source": [
    "file_path = \"SemEval2018-T3-train-taskA.txt\""
   ]
  },
  {
   "cell_type": "code",
   "execution_count": 4,
   "metadata": {
    "collapsed": true
   },
   "outputs": [],
   "source": [
    "from nltk.tokenize import TweetTokenizer\n",
    "from sklearn.feature_extraction.text import TfidfVectorizer\n",
    "import re\n",
    "\n",
    "fo = open(file_path,encoding=\"utf8\")\n",
    "trainingSet = fo.readlines()"
   ]
  },
  {
   "cell_type": "code",
   "execution_count": 5,
   "metadata": {
    "collapsed": true
   },
   "outputs": [],
   "source": [
    "labels = []\n",
    "tweets = []\n",
    "\n",
    "#fetch tweets and labels (sarcasm or no sarcasm)\n",
    "for line in trainingSet:\n",
    "    if not line.lower().startswith(\"tweet index\"):\n",
    "        line = line.rstrip()\n",
    "        splitLine = line.split(\"\\t\")\n",
    "        labels.append(splitLine[1])\n",
    "        tweets.append(splitLine[2])\n",
    "        \n",
    "#remove email and @references\n",
    "for idx, tweet in enumerate(tweets):\n",
    "    newTweet = re.sub('(http.+(\\s)?)|((@\\w*\\d*(\\s)?))','',tweet,flags=re.MULTILINE)\n",
    "    tweets[idx] = newTweet"
   ]
  },
  {
   "cell_type": "markdown",
   "metadata": {},
   "source": [
    "### 1. Unigram feature with vectorization of tweets"
   ]
  },
  {
   "cell_type": "code",
   "execution_count": 6,
   "metadata": {
    "collapsed": true
   },
   "outputs": [],
   "source": [
    "def vectorize_bow(tweets):\n",
    "    tweet_tokenizer = TweetTokenizer(preserve_case=False, reduce_len=True, strip_handles=True).tokenize\n",
    "    tweet_vectorizer = TfidfVectorizer(\n",
    "        strip_accents=\"unicode\", analyzer=\"word\", tokenizer=tweet_tokenizer, stop_words=\"english\",max_features = 3000)\n",
    "    vector = tweet_vectorizer.fit_transform(tweets)\n",
    "    vector = vector.toarray()\n",
    "    return vector"
   ]
  },
  {
   "cell_type": "code",
   "execution_count": 7,
   "metadata": {},
   "outputs": [],
   "source": [
    "import numpy as np\n",
    "tweet_vector = vectorize_bow(tweets)\n",
    "fo = open(\"unigram_vector.npy\",\"wb\")\n",
    "np.save(fo, tweet_vector)\n",
    "fo.close()"
   ]
  },
  {
   "cell_type": "code",
   "execution_count": 8,
   "metadata": {},
   "outputs": [
    {
     "name": "stdout",
     "output_type": "stream",
     "text": [
      "[[0.         0.         0.         ... 0.         0.         0.        ]\n",
      " [0.         0.         0.         ... 0.         0.         0.        ]\n",
      " [0.17412277 0.         0.         ... 0.         0.         0.        ]\n",
      " ...\n",
      " [0.         0.         0.         ... 0.         0.         0.        ]\n",
      " [0.         0.         0.         ... 0.         0.         0.        ]\n",
      " [0.15014354 0.         0.         ... 0.         0.         0.        ]]\n"
     ]
    }
   ],
   "source": [
    "print(tweet_vector)"
   ]
  },
  {
   "cell_type": "markdown",
   "metadata": {},
   "source": [
    "### 2. Punctuation feature"
   ]
  },
  {
   "cell_type": "code",
   "execution_count": 7,
   "metadata": {
    "collapsed": true
   },
   "outputs": [],
   "source": [
    "def print_to_file(data, filename,column):\n",
    "    fo = open(filename+\".txt\",\"w+\")\n",
    "    fo.write(column)\n",
    "    fo.write(\"\\n\")\n",
    "    for line in data:\n",
    "        fo.write(line)\n",
    "        fo.write(\"\\n\")\n",
    "    fo.close()"
   ]
  },
  {
   "cell_type": "code",
   "execution_count": 8,
   "metadata": {
    "collapsed": true
   },
   "outputs": [],
   "source": [
    "punc = []\n",
    "ellipsis = []\n",
    "\n",
    "for tweet in tweets:\n",
    "    exclaim_count = tweet.count(\"!\")\n",
    "    question_count = tweet.count(\"?\")\n",
    "    comma_count = tweet.count(\",\")\n",
    "    total_count = exclaim_count + question_count + comma_count\n",
    "    \n",
    "    ellipsis_count = len(re.findall('[(\\.\\.\\.)]+',tweet))\n",
    "    \n",
    "    punc.append(str(total_count)+\"\\t\"+str(ellipsis_count))\n",
    "print_to_file(punc,\"punctuation\",\"punctuation_count\" + \"\\t\" + \"ellipsis_count\")"
   ]
  },
  {
   "cell_type": "code",
   "execution_count": 9,
   "metadata": {
    "collapsed": true
   },
   "outputs": [],
   "source": [
    "fo = open(\"punctuations.npy\",\"wb\")\n",
    "np.save(fo, total_count)\n",
    "fo.close()"
   ]
  },
  {
   "cell_type": "code",
   "execution_count": 10,
   "metadata": {
    "collapsed": true
   },
   "outputs": [],
   "source": [
    "fo = open(\"ellipsis.npy\",\"wb\")\n",
    "np.save(fo, ellipsis_count)\n",
    "fo.close()"
   ]
  },
  {
   "cell_type": "code",
   "execution_count": 12,
   "metadata": {
    "collapsed": true
   },
   "outputs": [],
   "source": [
    "print_to_file(labels,\"labels\",\"labels\")"
   ]
  }
 ],
 "metadata": {
  "kernelspec": {
   "display_name": "Python 3",
   "language": "python",
   "name": "python3"
  },
  "language_info": {
   "codemirror_mode": {
    "name": "ipython",
    "version": 3
   },
   "file_extension": ".py",
   "mimetype": "text/x-python",
   "name": "python",
   "nbconvert_exporter": "python",
   "pygments_lexer": "ipython3",
   "version": "3.6.3"
  }
 },
 "nbformat": 4,
 "nbformat_minor": 2
}
