{
 "cells": [
  {
   "cell_type": "markdown",
   "metadata": {},
   "source": [
    "### Data preprocessing"
   ]
  },
  {
   "cell_type": "code",
   "execution_count": 13,
   "metadata": {},
   "outputs": [],
   "source": [
    "from nltk.tokenize import TweetTokenizer\n",
    "from sklearn.feature_extraction.text import TfidfVectorizer\n",
    "import re\n",
    "\n",
    "fo = open(\"SemEval2018-T3-train-taskA.txt\",encoding=\"utf8\")\n",
    "trainingSet = fo.readlines()"
   ]
  },
  {
   "cell_type": "code",
   "execution_count": 15,
   "metadata": {},
   "outputs": [],
   "source": [
    "labels = []\n",
    "tweets = []\n",
    "\n",
    "#fetch tweets and labels (sarcasm or no sarcasm)\n",
    "for line in trainingSet:\n",
    "    if not line.lower().startswith(\"tweet index\"):\n",
    "        line = line.rstrip()\n",
    "        splitLine = line.split(\"\\t\");\n",
    "        labels.append(splitLine[1]);\n",
    "        tweets.append(splitLine[2]);\n",
    "        \n",
    "#remove email and @references\n",
    "for idx, tweet in enumerate(tweets):\n",
    "    newTweet = re.sub('(http.+(\\s)?)|((@\\w*\\d*(\\s)?))','',tweet,flags=re.MULTILINE)\n",
    "    tweets[idx] = newTweet"
   ]
  },
  {
   "cell_type": "markdown",
   "metadata": {},
   "source": [
    "### 1. Unigram feature with vectorization of tweets"
   ]
  },
  {
   "cell_type": "code",
   "execution_count": 21,
   "metadata": {},
   "outputs": [],
   "source": [
    "def vectorize_bow(tweets):\n",
    "    tweet_tokenizer = TweetTokenizer(preserve_case=False, reduce_len=True, strip_handles=True).tokenize\n",
    "    tweet_vectorizer = TfidfVectorizer(strip_accents=\"unicode\", analyzer=\"word\", tokenizer=tweet_tokenizer, stop_words=\"english\")\n",
    "    vector = tweet_vectorizer.fit_transform(tweets)\n",
    "    vector = vector.toarray()\n",
    "    return vector"
   ]
  },
  {
   "cell_type": "code",
   "execution_count": 22,
   "metadata": {},
   "outputs": [],
   "source": [
    "tweet_vector = vectorize_bow(tweets)"
   ]
  },
  {
   "cell_type": "code",
   "execution_count": 23,
   "metadata": {},
   "outputs": [
    {
     "name": "stdout",
     "output_type": "stream",
     "text": [
      "[[0.         0.         0.         ... 0.         0.         0.        ]\n",
      " [0.         0.         0.         ... 0.         0.         0.        ]\n",
      " [0.15361031 0.         0.         ... 0.         0.         0.        ]\n",
      " ...\n",
      " [0.         0.         0.         ... 0.         0.         0.        ]\n",
      " [0.         0.         0.         ... 0.         0.         0.        ]\n",
      " [0.13639069 0.         0.         ... 0.         0.         0.        ]]\n"
     ]
    }
   ],
   "source": [
    "print(tweet_vector)"
   ]
  },
  {
   "cell_type": "markdown",
   "metadata": {},
   "source": [
    "### 2. Punctuation feature"
   ]
  },
  {
   "cell_type": "code",
   "execution_count": 28,
   "metadata": {},
   "outputs": [],
   "source": [
    "punc = []\n",
    "ellipsis = []\n",
    "\n",
    "for tweet in tweets:\n",
    "    exclaim_count = tweet.count(\"!\")\n",
    "    question_count = tweet.count(\"?\")\n",
    "    comma_count = tweet.count(\",\")\n",
    "    total_count = exclaim_count + question_count + comma_count\n",
    "    \n",
    "    ellipsis_count = len(re.findall('[(\\.\\.\\.)]+',tweet))\n",
    "    \n",
    "    punc.append(total_count)\n",
    "    ellipsis.append(ellipsis_count)\n"
   ]
  }
 ],
 "metadata": {
  "kernelspec": {
   "display_name": "Python 3",
   "language": "python",
   "name": "python3"
  },
  "language_info": {
   "codemirror_mode": {
    "name": "ipython",
    "version": 3
   },
   "file_extension": ".py",
   "mimetype": "text/x-python",
   "name": "python",
   "nbconvert_exporter": "python",
   "pygments_lexer": "ipython3",
   "version": "3.7.0"
  }
 },
 "nbformat": 4,
 "nbformat_minor": 2
}
